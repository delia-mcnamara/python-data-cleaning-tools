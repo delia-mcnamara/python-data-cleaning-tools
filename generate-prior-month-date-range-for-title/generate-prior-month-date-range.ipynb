{
 "cells": [
  {
   "cell_type": "markdown",
   "id": "6fd04b3f-6ae4-4e0e-8e36-ec1b28629264",
   "metadata": {},
   "source": [
    "# Generate prior month date range, apply to filename at save"
   ]
  },
  {
   "cell_type": "markdown",
   "id": "190fe557-134c-45ee-a942-2d0ee0e9c13f",
   "metadata": {},
   "source": [
    "### Description"
   ]
  },
  {
   "cell_type": "markdown",
   "id": "1f5bd527-b111-4aa6-bde5-38ad2153b9f6",
   "metadata": {},
   "source": [
    "- Use when handling monthly reports generated at next month start\n",
    "- Uses current date to calculate the start date and end date of the previous month\n",
    "- Adds this date range to the filename at export\n",
    "- Useful when cleaning a monthly report any time in the following month\n",
    "- Can be used for months before prior month- change 'months = 1' to another number\n",
    "- Can incorporate into another cleaning function to add date range to filename "
   ]
  },
  {
   "cell_type": "markdown",
   "id": "63290dd3-4bb5-4172-986d-3199260883db",
   "metadata": {},
   "source": [
    "## Import libraries"
   ]
  },
  {
   "cell_type": "code",
   "execution_count": 1,
   "id": "4bf1fb20-117a-419f-8103-620724cfd54d",
   "metadata": {},
   "outputs": [],
   "source": [
    "import pandas as pd"
   ]
  },
  {
   "cell_type": "markdown",
   "id": "75fe5b13-c822-478c-9cd3-b7da28641ce6",
   "metadata": {},
   "source": [
    "## Import data"
   ]
  },
  {
   "cell_type": "code",
   "execution_count": 2,
   "id": "565c2099-57f2-4d2b-9737-12cf1e187f16",
   "metadata": {},
   "outputs": [],
   "source": [
    "dfa1 = pd.read_csv(\"monthly_report.csv\")"
   ]
  },
  {
   "cell_type": "markdown",
   "id": "47a25aa1-6036-4be2-9bf9-5a6ce86e293b",
   "metadata": {},
   "source": [
    "## Create objects for first and last day of prior month"
   ]
  },
  {
   "cell_type": "code",
   "execution_count": 3,
   "id": "0d02fa1f-f2c5-4e48-8a64-513a986eb5d4",
   "metadata": {},
   "outputs": [
    {
     "name": "stdout",
     "output_type": "stream",
     "text": [
      "2025-10-28 20:59:11.138824\n"
     ]
    }
   ],
   "source": [
    "# Get today's date\n",
    "date_today = pd.to_datetime('today')\n",
    "\n",
    "print(date_today)"
   ]
  },
  {
   "cell_type": "code",
   "execution_count": 4,
   "id": "4ff08b62-1c92-4d85-85b1-4167d9ec3aad",
   "metadata": {},
   "outputs": [
    {
     "name": "stdout",
     "output_type": "stream",
     "text": [
      "2025-09-01 20:59:11.138824\n"
     ]
    }
   ],
   "source": [
    "# Get prior month first day\n",
    "prev_month_first = (date_today - pd.offsets.DateOffset(months = 1)).replace(day = 1)\n",
    "\n",
    "print(prev_month_first)"
   ]
  },
  {
   "cell_type": "code",
   "execution_count": 5,
   "id": "8d85cbdb-3290-42c9-ae87-03c8aa68ed98",
   "metadata": {},
   "outputs": [
    {
     "name": "stdout",
     "output_type": "stream",
     "text": [
      "2025-09-30 20:59:11.138824\n"
     ]
    }
   ],
   "source": [
    "# Get prior month last day\n",
    "prev_month_last = prev_month_first + pd.offsets.MonthEnd(0)\n",
    "\n",
    "print(prev_month_last)"
   ]
  },
  {
   "cell_type": "markdown",
   "id": "e7526559-c613-47f2-b3cb-d998c1543b60",
   "metadata": {},
   "source": [
    "## Export file"
   ]
  },
  {
   "cell_type": "code",
   "execution_count": 6,
   "id": "a4dedf5a-fd47-42a1-b99f-23cc5f9787b6",
   "metadata": {},
   "outputs": [],
   "source": [
    "# Convert dates to string without time\n",
    "month_first_string = prev_month_first.strftime(\"%Y-%m-%d\")\n",
    "month_last_string = prev_month_last.strftime(\"%Y-%m-%d\")\n",
    "\n",
    "# Save the file in the date_templates_clean subfolder\n",
    "dfa1.to_csv(f'cleaned_monthly_report_{month_first_string}_to_{month_last_string}.csv', encoding = 'utf-8', index = False, header = True)"
   ]
  }
 ],
 "metadata": {
  "kernelspec": {
   "display_name": "Python 3 (ipykernel)",
   "language": "python",
   "name": "python3"
  },
  "language_info": {
   "codemirror_mode": {
    "name": "ipython",
    "version": 3
   },
   "file_extension": ".py",
   "mimetype": "text/x-python",
   "name": "python",
   "nbconvert_exporter": "python",
   "pygments_lexer": "ipython3",
   "version": "3.11.7"
  }
 },
 "nbformat": 4,
 "nbformat_minor": 5
}
